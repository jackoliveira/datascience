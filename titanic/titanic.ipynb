{
 "cells": [
  {
   "cell_type": "markdown",
   "metadata": {},
   "source": [
    "## Projeto do curso Data Science de A a Z\n",
    "\n",
    "- Analisar os famosos dados dos passageiros do navio titanic\n",
    "- Limpar e corrigir as inconsistências nos dados\n",
    "- Tirar _insights_ dos dados\n",
    "- Tarefa primária: tirar a média de idade dos passageiros"
   ]
  },
  {
   "cell_type": "code",
   "execution_count": 1,
   "metadata": {},
   "outputs": [],
   "source": [
    "# Arquivo de dados em .csv\n",
    "\n",
    "csv = open('titanic.csv', 'r')"
   ]
  },
  {
   "cell_type": "code",
   "execution_count": 2,
   "metadata": {},
   "outputs": [],
   "source": [
    "# Lê o arquivo para uma variável\n",
    "\n",
    "lines = csv.readlines()"
   ]
  },
  {
   "cell_type": "code",
   "execution_count": 3,
   "metadata": {},
   "outputs": [
    {
     "data": {
      "text/plain": [
       "0"
      ]
     },
     "execution_count": 3,
     "metadata": {},
     "output_type": "execute_result"
    }
   ],
   "source": [
    "# Retorna o ponteiro para o início do arquivo\n",
    "\n",
    "csv.seek(0)"
   ]
  },
  {
   "cell_type": "code",
   "execution_count": 4,
   "metadata": {},
   "outputs": [
    {
     "name": "stdout",
     "output_type": "stream",
     "text": [
      "['PassengerId', 'Survived', 'Pclass', 'Name', 'Sex', 'Age', 'SibSp', 'Parch', 'Ticket', 'Fare', 'Cabin', 'Embarked\\n']\n"
     ]
    }
   ],
   "source": [
    "# Cria um array com os cabeçalhos dos dados\n",
    "\n",
    "headers = lines[0].split(',')\n",
    "\n",
    "print(headers)"
   ]
  },
  {
   "cell_type": "code",
   "execution_count": 5,
   "metadata": {},
   "outputs": [],
   "source": [
    "# Array com os dados dos passageiros\n",
    "\n",
    "data = lines[1:]"
   ]
  },
  {
   "cell_type": "code",
   "execution_count": 6,
   "metadata": {},
   "outputs": [],
   "source": [
    "# Expressão regular que corrige o nome dos passageiros para uma melhor visualização\n",
    "\n",
    "import re\n",
    "\n",
    "regex = r'\"(.*)(,)(\\s.*)\"'\n",
    "\n",
    "match = re.compile(regex)"
   ]
  },
  {
   "cell_type": "code",
   "execution_count": 7,
   "metadata": {},
   "outputs": [
    {
     "name": "stdout",
     "output_type": "stream",
     "text": [
      "1,0,3,\" Mr. Owen Harris Braund\",male,22,1,0,A/5 21171,7.25,,S\n",
      "\n",
      "1,0,3,\"Braund, Mr. Owen Harris\",male,22,1,0,A/5 21171,7.25,,S\n",
      "\n"
     ]
    }
   ],
   "source": [
    "# Visualização de saída do Regex criado em comparação com os dados originais\n",
    "\n",
    "print(match.sub(r'\"\\3 \\1\"', data[0]))\n",
    "\n",
    "print(data[0])"
   ]
  },
  {
   "cell_type": "code",
   "execution_count": 8,
   "metadata": {},
   "outputs": [],
   "source": [
    "# Função que corrige os dados e retorna um array para cada passageiro\n",
    "\n",
    "def format_line(line):\n",
    "    line = match.sub(r'\"\\3 \\1\"', line).split(\",\")\n",
    "    \n",
    "    # Nome do passageiro no índice 3\n",
    "    line[3] = line[3].strip('\\\"').strip()\n",
    "    return line"
   ]
  },
  {
   "cell_type": "code",
   "execution_count": 9,
   "metadata": {
    "scrolled": true
   },
   "outputs": [],
   "source": [
    "# Executa a função format_line para todos os itens do array de passageiros\n",
    "\n",
    "data = list(map(format_line, data))"
   ]
  },
  {
   "cell_type": "code",
   "execution_count": 10,
   "metadata": {},
   "outputs": [],
   "source": [
    "# Dicionário de dados para operações em massa\n",
    "\n",
    "dictionary = dict()"
   ]
  },
  {
   "cell_type": "code",
   "execution_count": 11,
   "metadata": {},
   "outputs": [
    {
     "name": "stdout",
     "output_type": "stream",
     "text": [
      "{'PassengerId': [], 'Survived': [], 'Pclass': [], 'Name': [], 'Sex': [], 'Age': [], 'SibSp': [], 'Parch': [], 'Ticket': [], 'Fare': [], 'Cabin': [], 'Embarked\\n': []}\n"
     ]
    }
   ],
   "source": [
    "# Adicionado cada cabeçalho no dicionário\n",
    "\n",
    "for item in headers:\n",
    "    dictionary[item] = []\n",
    "    \n",
    "print(dictionary)"
   ]
  },
  {
   "cell_type": "code",
   "execution_count": 12,
   "metadata": {
    "scrolled": true
   },
   "outputs": [
    {
     "name": "stdout",
     "output_type": "stream",
     "text": [
      "1 Mr. Owen Harris Braund A/5 21171\n"
     ]
    }
   ],
   "source": [
    "# Preenche o dicionário e seus índices com os seus respectivos dados\n",
    "\n",
    "for index, head in enumerate(headers):\n",
    "    for passenger in data:\n",
    "        dictionary[head].append(passenger[index])\n",
    "        \n",
    "print(dictionary['PassengerId'][0], dictionary['Name'][0], dictionary['Ticket'][0])"
   ]
  },
  {
   "cell_type": "code",
   "execution_count": 13,
   "metadata": {},
   "outputs": [],
   "source": [
    "# Transforma a idade de String para Float, caso esteja vazia, coloca como -1\n",
    "\n",
    "for index, age in enumerate(dictionary['Age']):\n",
    "    if age != \"\":\n",
    "        dictionary['Age'][index] = float(age)\n",
    "    else:\n",
    "        dictionary['Age'][index] = -1"
   ]
  },
  {
   "cell_type": "code",
   "execution_count": 14,
   "metadata": {},
   "outputs": [],
   "source": [
    "# Cria um array e adiciona as idades que são válidas (Remove as idades com -1)\n",
    "\n",
    "ages_filtered = list(filter(lambda x : x != -1, dictionary['Age']))"
   ]
  },
  {
   "cell_type": "code",
   "execution_count": 15,
   "metadata": {},
   "outputs": [],
   "source": [
    "# Calcula a média de todas as idades do array de idades filtradas.\n",
    "\n",
    "import functools as tools\n",
    "\n",
    "average_age = tools.reduce(lambda x, y : x + y, ages_filtered) / len(ages_filtered)"
   ]
  },
  {
   "cell_type": "code",
   "execution_count": 16,
   "metadata": {},
   "outputs": [
    {
     "name": "stdout",
     "output_type": "stream",
     "text": [
      "Maior idade: 80.0\n",
      "Menor idade: 0.42\n",
      "Média das idades: 29.7\n"
     ]
    }
   ],
   "source": [
    "# Maior e menor e a média de idade dos passageiros do navio\n",
    "\n",
    "print(\"Maior idade:\", max(ages_filtered))\n",
    "print(\"Menor idade:\", min(ages_filtered))\n",
    "print(\"Média das idades:\", round(average_age, 2))"
   ]
  },
  {
   "cell_type": "code",
   "execution_count": null,
   "metadata": {},
   "outputs": [],
   "source": []
  }
 ],
 "metadata": {
  "kernelspec": {
   "display_name": "Python 3",
   "language": "python",
   "name": "python3"
  },
  "language_info": {
   "codemirror_mode": {
    "name": "ipython",
    "version": 3
   },
   "file_extension": ".py",
   "mimetype": "text/x-python",
   "name": "python",
   "nbconvert_exporter": "python",
   "pygments_lexer": "ipython3",
   "version": "3.7.4"
  }
 },
 "nbformat": 4,
 "nbformat_minor": 2
}
